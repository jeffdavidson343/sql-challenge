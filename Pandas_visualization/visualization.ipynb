{
 "cells": [
  {
   "cell_type": "code",
   "execution_count": 1,
   "id": "5e4dfcae",
   "metadata": {},
   "outputs": [],
   "source": [
    "# Import dependencies\n",
    "import pandas as pd\n",
    "from sqlalchemy import create_engine\n",
    "import matplotlib.pyplot as plt\n",
    "from pathlib import path"
   ]
  },
  {
   "cell_type": "code",
   "execution_count": 2,
   "id": "7faa4f1f",
   "metadata": {},
   "outputs": [
    {
     "ename": "NameError",
     "evalue": "name 'user_name' is not defined",
     "output_type": "error",
     "traceback": [
      "\u001b[1;31m---------------------------------------------------------------------------\u001b[0m",
      "\u001b[1;31mNameError\u001b[0m                                 Traceback (most recent call last)",
      "Cell \u001b[1;32mIn[2], line 2\u001b[0m\n\u001b[0;32m      1\u001b[0m \u001b[38;5;66;03m# Connect to postgres\u001b[39;00m\n\u001b[1;32m----> 2\u001b[0m engine \u001b[38;5;241m=\u001b[39m create_engine(\u001b[38;5;124mf\u001b[39m\u001b[38;5;124m'\u001b[39m\u001b[38;5;124mpostgresql://\u001b[39m\u001b[38;5;132;01m{\u001b[39;00muser_name\u001b[38;5;132;01m}\u001b[39;00m\u001b[38;5;124m:\u001b[39m\u001b[38;5;132;01m{\u001b[39;00mpassword\u001b[38;5;132;01m}\u001b[39;00m\u001b[38;5;124m@\u001b[39m\u001b[38;5;132;01m{\u001b[39;00mlocal_host\u001b[38;5;132;01m}\u001b[39;00m\u001b[38;5;124m/sql-challenge\u001b[39m\u001b[38;5;124m'\u001b[39m)\n\u001b[0;32m      3\u001b[0m connection \u001b[38;5;241m=\u001b[39m engine\u001b[38;5;241m.\u001b[39mconnect()\n",
      "\u001b[1;31mNameError\u001b[0m: name 'user_name' is not defined"
     ]
    }
   ],
   "source": [
    "# Connect to postgres\n",
    "database_path = Path(\"..\\EmployeeSQL\\\")\n",
    "engine = create_engine(f\"sqlite:///{database_path}\")\n",
    "connection = engine.connect()\n"
   ]
  },
  {
   "cell_type": "code",
   "execution_count": null,
   "id": "94212ef4",
   "metadata": {},
   "outputs": [],
   "source": [
    "# Create DataFrame based on SQL Titles table\n",
    "query = 'select * from titles'\n",
    "df_titles = pd.read_sql_query(query, con=engine)\n",
    "df_titles.head()"
   ]
  },
  {
   "cell_type": "code",
   "execution_count": null,
   "id": "db97f25c",
   "metadata": {},
   "outputs": [],
   "source": [
    "# Create DataFrame based on SQL Salaries table\n",
    "query = 'select * from salaries'\n",
    "df_salaries = pd.read_sql_query(query, con=engine)\n",
    "df_salaries.head()"
   ]
  },
  {
   "cell_type": "code",
   "execution_count": null,
   "id": "802dfe7d",
   "metadata": {},
   "outputs": [],
   "source": [
    "# Merge the titles and salaries DataFrames\n",
    "merged = pd.merge(df_titles,df_salaries,on='emp_no')\n",
    "merged.head()"
   ]
  },
  {
   "cell_type": "code",
   "execution_count": null,
   "id": "256cfbad",
   "metadata": {},
   "outputs": [],
   "source": [
    "# Clean up merged DataFrame\n",
    "merged_drop = merged.drop(columns =['emp_no','from_date_x','to_date_x','from_date_y','to_date_y'])\n",
    "\n",
    "# Find the average salary by job title\n",
    "grouped_df = merged_drop.groupby('title').mean()\n",
    "grouped_formatted = grouped_df.copy()\n",
    "\n",
    "grouped_formatted['salary'] = grouped_formatted['salary'].map('${:,.2f}'.format)\n",
    "grouped_formatted"
   ]
  },
  {
   "cell_type": "code",
   "execution_count": null,
   "id": "48d82544",
   "metadata": {},
   "outputs": [],
   "source": [
    "# Plot the average salary by job title\n",
    "plt.figure(figsize=(10,6))\n",
    "plt.bar(grouped_df.index,grouped_df['salary'])\n",
    "plt.xlabel('Job Title')\n",
    "plt.ylabel('Average Salary ($)')\n",
    "plt.title('Average Salary by Job Title',size=13)\n",
    "plt.grid()\n",
    "plt.savefig('Images/AvgSalarybyTitle.png')"
   ]
  },
  {
   "cell_type": "code",
   "execution_count": null,
   "id": "4ee31a37",
   "metadata": {},
   "outputs": [],
   "source": [
    "# Dispose of engine\n",
    "engine.dispose()"
   ]
  },
  {
   "cell_type": "code",
   "execution_count": null,
   "id": "b1e094c7",
   "metadata": {},
   "outputs": [],
   "source": []
  },
  {
   "cell_type": "code",
   "execution_count": null,
   "id": "e23afcf4",
   "metadata": {},
   "outputs": [],
   "source": []
  }
 ],
 "metadata": {
  "kernelspec": {
   "display_name": "Python 3 (ipykernel)",
   "language": "python",
   "name": "python3"
  },
  "language_info": {
   "codemirror_mode": {
    "name": "ipython",
    "version": 3
   },
   "file_extension": ".py",
   "mimetype": "text/x-python",
   "name": "python",
   "nbconvert_exporter": "python",
   "pygments_lexer": "ipython3",
   "version": "3.10.11"
  }
 },
 "nbformat": 4,
 "nbformat_minor": 5
}
